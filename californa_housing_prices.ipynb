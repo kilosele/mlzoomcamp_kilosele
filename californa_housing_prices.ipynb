{
 "cells": [
  {
   "cell_type": "code",
   "execution_count": 1,
   "id": "f877279a",
   "metadata": {},
   "outputs": [],
   "source": [
    "# Libraries\n",
    "\n",
    "import pandas as pd\n",
    "import numpy as np\n",
    "\n",
    "import matplotlib.pyplot as plt\n",
    "import seaborn as sns\n",
    "\n",
    "%matplotlib inline"
   ]
  },
  {
   "cell_type": "markdown",
   "id": "f568c499",
   "metadata": {},
   "source": [
    "# 2.2 Data preparation"
   ]
  },
  {
   "cell_type": "code",
   "execution_count": 2,
   "id": "03d470b0",
   "metadata": {},
   "outputs": [],
   "source": [
    "df = pd.read_csv('/Users/admin/Documents/Data Science/ml-zoomcamp/Session_two_linear_regression/housing.csv')"
   ]
  },
  {
   "cell_type": "code",
   "execution_count": 3,
   "id": "40c3b33a",
   "metadata": {},
   "outputs": [
    {
     "name": "stdout",
     "output_type": "stream",
     "text": [
      "(20640, 10)\n"
     ]
    },
    {
     "data": {
      "text/html": [
       "<div>\n",
       "<style scoped>\n",
       "    .dataframe tbody tr th:only-of-type {\n",
       "        vertical-align: middle;\n",
       "    }\n",
       "\n",
       "    .dataframe tbody tr th {\n",
       "        vertical-align: top;\n",
       "    }\n",
       "\n",
       "    .dataframe thead th {\n",
       "        text-align: right;\n",
       "    }\n",
       "</style>\n",
       "<table border=\"1\" class=\"dataframe\">\n",
       "  <thead>\n",
       "    <tr style=\"text-align: right;\">\n",
       "      <th></th>\n",
       "      <th>longitude</th>\n",
       "      <th>latitude</th>\n",
       "      <th>housing_median_age</th>\n",
       "      <th>total_rooms</th>\n",
       "      <th>total_bedrooms</th>\n",
       "      <th>population</th>\n",
       "      <th>households</th>\n",
       "      <th>median_income</th>\n",
       "      <th>median_house_value</th>\n",
       "      <th>ocean_proximity</th>\n",
       "    </tr>\n",
       "  </thead>\n",
       "  <tbody>\n",
       "    <tr>\n",
       "      <th>0</th>\n",
       "      <td>-122.23</td>\n",
       "      <td>37.88</td>\n",
       "      <td>41.0</td>\n",
       "      <td>880.0</td>\n",
       "      <td>129.0</td>\n",
       "      <td>322.0</td>\n",
       "      <td>126.0</td>\n",
       "      <td>8.3252</td>\n",
       "      <td>452600.0</td>\n",
       "      <td>NEAR BAY</td>\n",
       "    </tr>\n",
       "    <tr>\n",
       "      <th>1</th>\n",
       "      <td>-122.22</td>\n",
       "      <td>37.86</td>\n",
       "      <td>21.0</td>\n",
       "      <td>7099.0</td>\n",
       "      <td>1106.0</td>\n",
       "      <td>2401.0</td>\n",
       "      <td>1138.0</td>\n",
       "      <td>8.3014</td>\n",
       "      <td>358500.0</td>\n",
       "      <td>NEAR BAY</td>\n",
       "    </tr>\n",
       "    <tr>\n",
       "      <th>2</th>\n",
       "      <td>-122.24</td>\n",
       "      <td>37.85</td>\n",
       "      <td>52.0</td>\n",
       "      <td>1467.0</td>\n",
       "      <td>190.0</td>\n",
       "      <td>496.0</td>\n",
       "      <td>177.0</td>\n",
       "      <td>7.2574</td>\n",
       "      <td>352100.0</td>\n",
       "      <td>NEAR BAY</td>\n",
       "    </tr>\n",
       "    <tr>\n",
       "      <th>3</th>\n",
       "      <td>-122.25</td>\n",
       "      <td>37.85</td>\n",
       "      <td>52.0</td>\n",
       "      <td>1274.0</td>\n",
       "      <td>235.0</td>\n",
       "      <td>558.0</td>\n",
       "      <td>219.0</td>\n",
       "      <td>5.6431</td>\n",
       "      <td>341300.0</td>\n",
       "      <td>NEAR BAY</td>\n",
       "    </tr>\n",
       "    <tr>\n",
       "      <th>4</th>\n",
       "      <td>-122.25</td>\n",
       "      <td>37.85</td>\n",
       "      <td>52.0</td>\n",
       "      <td>1627.0</td>\n",
       "      <td>280.0</td>\n",
       "      <td>565.0</td>\n",
       "      <td>259.0</td>\n",
       "      <td>3.8462</td>\n",
       "      <td>342200.0</td>\n",
       "      <td>NEAR BAY</td>\n",
       "    </tr>\n",
       "  </tbody>\n",
       "</table>\n",
       "</div>"
      ],
      "text/plain": [
       "   longitude  latitude  housing_median_age  total_rooms  total_bedrooms  \\\n",
       "0    -122.23     37.88                41.0        880.0           129.0   \n",
       "1    -122.22     37.86                21.0       7099.0          1106.0   \n",
       "2    -122.24     37.85                52.0       1467.0           190.0   \n",
       "3    -122.25     37.85                52.0       1274.0           235.0   \n",
       "4    -122.25     37.85                52.0       1627.0           280.0   \n",
       "\n",
       "   population  households  median_income  median_house_value ocean_proximity  \n",
       "0       322.0       126.0         8.3252            452600.0        NEAR BAY  \n",
       "1      2401.0      1138.0         8.3014            358500.0        NEAR BAY  \n",
       "2       496.0       177.0         7.2574            352100.0        NEAR BAY  \n",
       "3       558.0       219.0         5.6431            341300.0        NEAR BAY  \n",
       "4       565.0       259.0         3.8462            342200.0        NEAR BAY  "
      ]
     },
     "execution_count": 3,
     "metadata": {},
     "output_type": "execute_result"
    }
   ],
   "source": [
    "print(df.shape)\n",
    "df.head()"
   ]
  },
  {
   "cell_type": "code",
   "execution_count": 4,
   "id": "6acfbf50",
   "metadata": {},
   "outputs": [
    {
     "name": "stdout",
     "output_type": "stream",
     "text": [
      "<class 'pandas.core.frame.DataFrame'>\n",
      "RangeIndex: 20640 entries, 0 to 20639\n",
      "Data columns (total 10 columns):\n",
      " #   Column              Non-Null Count  Dtype  \n",
      "---  ------              --------------  -----  \n",
      " 0   longitude           20640 non-null  float64\n",
      " 1   latitude            20640 non-null  float64\n",
      " 2   housing_median_age  20640 non-null  float64\n",
      " 3   total_rooms         20640 non-null  float64\n",
      " 4   total_bedrooms      20433 non-null  float64\n",
      " 5   population          20640 non-null  float64\n",
      " 6   households          20640 non-null  float64\n",
      " 7   median_income       20640 non-null  float64\n",
      " 8   median_house_value  20640 non-null  float64\n",
      " 9   ocean_proximity     20640 non-null  object \n",
      "dtypes: float64(9), object(1)\n",
      "memory usage: 1.6+ MB\n"
     ]
    }
   ],
   "source": [
    "df.info()"
   ]
  },
  {
   "cell_type": "code",
   "execution_count": 5,
   "id": "f341f9ea",
   "metadata": {},
   "outputs": [],
   "source": [
    "# convert the records of ocean_proximity to lower case and replace the space with _\n",
    "\n",
    "df['ocean_proximity'] = df['ocean_proximity'].str.lower().str.replace(' ', '_')"
   ]
  },
  {
   "cell_type": "code",
   "execution_count": 6,
   "id": "4daa1d4f",
   "metadata": {},
   "outputs": [
    {
     "data": {
      "text/html": [
       "<div>\n",
       "<style scoped>\n",
       "    .dataframe tbody tr th:only-of-type {\n",
       "        vertical-align: middle;\n",
       "    }\n",
       "\n",
       "    .dataframe tbody tr th {\n",
       "        vertical-align: top;\n",
       "    }\n",
       "\n",
       "    .dataframe thead th {\n",
       "        text-align: right;\n",
       "    }\n",
       "</style>\n",
       "<table border=\"1\" class=\"dataframe\">\n",
       "  <thead>\n",
       "    <tr style=\"text-align: right;\">\n",
       "      <th></th>\n",
       "      <th>longitude</th>\n",
       "      <th>latitude</th>\n",
       "      <th>housing_median_age</th>\n",
       "      <th>total_rooms</th>\n",
       "      <th>total_bedrooms</th>\n",
       "      <th>population</th>\n",
       "      <th>households</th>\n",
       "      <th>median_income</th>\n",
       "      <th>median_house_value</th>\n",
       "      <th>ocean_proximity</th>\n",
       "    </tr>\n",
       "  </thead>\n",
       "  <tbody>\n",
       "    <tr>\n",
       "      <th>0</th>\n",
       "      <td>-122.23</td>\n",
       "      <td>37.88</td>\n",
       "      <td>41.0</td>\n",
       "      <td>880.0</td>\n",
       "      <td>129.0</td>\n",
       "      <td>322.0</td>\n",
       "      <td>126.0</td>\n",
       "      <td>8.3252</td>\n",
       "      <td>452600.0</td>\n",
       "      <td>near_bay</td>\n",
       "    </tr>\n",
       "    <tr>\n",
       "      <th>1</th>\n",
       "      <td>-122.22</td>\n",
       "      <td>37.86</td>\n",
       "      <td>21.0</td>\n",
       "      <td>7099.0</td>\n",
       "      <td>1106.0</td>\n",
       "      <td>2401.0</td>\n",
       "      <td>1138.0</td>\n",
       "      <td>8.3014</td>\n",
       "      <td>358500.0</td>\n",
       "      <td>near_bay</td>\n",
       "    </tr>\n",
       "    <tr>\n",
       "      <th>2</th>\n",
       "      <td>-122.24</td>\n",
       "      <td>37.85</td>\n",
       "      <td>52.0</td>\n",
       "      <td>1467.0</td>\n",
       "      <td>190.0</td>\n",
       "      <td>496.0</td>\n",
       "      <td>177.0</td>\n",
       "      <td>7.2574</td>\n",
       "      <td>352100.0</td>\n",
       "      <td>near_bay</td>\n",
       "    </tr>\n",
       "    <tr>\n",
       "      <th>3</th>\n",
       "      <td>-122.25</td>\n",
       "      <td>37.85</td>\n",
       "      <td>52.0</td>\n",
       "      <td>1274.0</td>\n",
       "      <td>235.0</td>\n",
       "      <td>558.0</td>\n",
       "      <td>219.0</td>\n",
       "      <td>5.6431</td>\n",
       "      <td>341300.0</td>\n",
       "      <td>near_bay</td>\n",
       "    </tr>\n",
       "    <tr>\n",
       "      <th>4</th>\n",
       "      <td>-122.25</td>\n",
       "      <td>37.85</td>\n",
       "      <td>52.0</td>\n",
       "      <td>1627.0</td>\n",
       "      <td>280.0</td>\n",
       "      <td>565.0</td>\n",
       "      <td>259.0</td>\n",
       "      <td>3.8462</td>\n",
       "      <td>342200.0</td>\n",
       "      <td>near_bay</td>\n",
       "    </tr>\n",
       "  </tbody>\n",
       "</table>\n",
       "</div>"
      ],
      "text/plain": [
       "   longitude  latitude  housing_median_age  total_rooms  total_bedrooms  \\\n",
       "0    -122.23     37.88                41.0        880.0           129.0   \n",
       "1    -122.22     37.86                21.0       7099.0          1106.0   \n",
       "2    -122.24     37.85                52.0       1467.0           190.0   \n",
       "3    -122.25     37.85                52.0       1274.0           235.0   \n",
       "4    -122.25     37.85                52.0       1627.0           280.0   \n",
       "\n",
       "   population  households  median_income  median_house_value ocean_proximity  \n",
       "0       322.0       126.0         8.3252            452600.0        near_bay  \n",
       "1      2401.0      1138.0         8.3014            358500.0        near_bay  \n",
       "2       496.0       177.0         7.2574            352100.0        near_bay  \n",
       "3       558.0       219.0         5.6431            341300.0        near_bay  \n",
       "4       565.0       259.0         3.8462            342200.0        near_bay  "
      ]
     },
     "execution_count": 6,
     "metadata": {},
     "output_type": "execute_result"
    }
   ],
   "source": [
    "df.head()"
   ]
  },
  {
   "cell_type": "markdown",
   "id": "a5654980",
   "metadata": {},
   "source": [
    "# 2.3 Exploratory data analysis"
   ]
  },
  {
   "cell_type": "code",
   "execution_count": 7,
   "id": "e8dab2dc",
   "metadata": {},
   "outputs": [
    {
     "data": {
      "text/plain": [
       "<AxesSubplot:xlabel='median_house_value', ylabel='Count'>"
      ]
     },
     "execution_count": 7,
     "metadata": {},
     "output_type": "execute_result"
    },
    {
     "data": {
      "image/png": "[encoded data removed]",
      "text/plain": [
       "<Figure size 640x480 with 1 Axes>"
      ]
     },
     "metadata": {},
     "output_type": "display_data"
    }
   ],
   "source": [
    "# a look at the median_income distribution\n",
    "sns.histplot(df['median_house_value'], bins=50)"
   ]
  },
  {
   "cell_type": "code",
   "execution_count": 8,
   "id": "b6855e3d",
   "metadata": {},
   "outputs": [
    {
     "data": {
      "text/plain": [
       "Index(['longitude', 'latitude', 'housing_median_age', 'total_rooms',\n",
       "       'total_bedrooms', 'population', 'households', 'median_income',\n",
       "       'median_house_value', 'ocean_proximity'],\n",
       "      dtype='object')"
      ]
     },
     "execution_count": 8,
     "metadata": {},
     "output_type": "execute_result"
    }
   ],
   "source": [
    "df.columns"
   ]
  },
  {
   "cell_type": "code",
   "execution_count": 9,
   "id": "81b07dea",
   "metadata": {},
   "outputs": [
    {
     "data": {
      "text/html": [
       "<div>\n",
       "<style scoped>\n",
       "    .dataframe tbody tr th:only-of-type {\n",
       "        vertical-align: middle;\n",
       "    }\n",
       "\n",
       "    .dataframe tbody tr th {\n",
       "        vertical-align: top;\n",
       "    }\n",
       "\n",
       "    .dataframe thead th {\n",
       "        text-align: right;\n",
       "    }\n",
       "</style>\n",
       "<table border=\"1\" class=\"dataframe\">\n",
       "  <thead>\n",
       "    <tr style=\"text-align: right;\">\n",
       "      <th></th>\n",
       "      <th>longitude</th>\n",
       "      <th>latitude</th>\n",
       "      <th>housing_median_age</th>\n",
       "      <th>total_rooms</th>\n",
       "      <th>total_bedrooms</th>\n",
       "      <th>population</th>\n",
       "      <th>households</th>\n",
       "      <th>median_income</th>\n",
       "      <th>median_house_value</th>\n",
       "    </tr>\n",
       "  </thead>\n",
       "  <tbody>\n",
       "    <tr>\n",
       "      <th>0</th>\n",
       "      <td>-122.23</td>\n",
       "      <td>37.88</td>\n",
       "      <td>41.0</td>\n",
       "      <td>880.0</td>\n",
       "      <td>129.0</td>\n",
       "      <td>322.0</td>\n",
       "      <td>126.0</td>\n",
       "      <td>8.3252</td>\n",
       "      <td>452600.0</td>\n",
       "    </tr>\n",
       "    <tr>\n",
       "      <th>1</th>\n",
       "      <td>-122.22</td>\n",
       "      <td>37.86</td>\n",
       "      <td>21.0</td>\n",
       "      <td>7099.0</td>\n",
       "      <td>1106.0</td>\n",
       "      <td>2401.0</td>\n",
       "      <td>1138.0</td>\n",
       "      <td>8.3014</td>\n",
       "      <td>358500.0</td>\n",
       "    </tr>\n",
       "    <tr>\n",
       "      <th>2</th>\n",
       "      <td>-122.24</td>\n",
       "      <td>37.85</td>\n",
       "      <td>52.0</td>\n",
       "      <td>1467.0</td>\n",
       "      <td>190.0</td>\n",
       "      <td>496.0</td>\n",
       "      <td>177.0</td>\n",
       "      <td>7.2574</td>\n",
       "      <td>352100.0</td>\n",
       "    </tr>\n",
       "    <tr>\n",
       "      <th>3</th>\n",
       "      <td>-122.25</td>\n",
       "      <td>37.85</td>\n",
       "      <td>52.0</td>\n",
       "      <td>1274.0</td>\n",
       "      <td>235.0</td>\n",
       "      <td>558.0</td>\n",
       "      <td>219.0</td>\n",
       "      <td>5.6431</td>\n",
       "      <td>341300.0</td>\n",
       "    </tr>\n",
       "    <tr>\n",
       "      <th>4</th>\n",
       "      <td>-122.25</td>\n",
       "      <td>37.85</td>\n",
       "      <td>52.0</td>\n",
       "      <td>1627.0</td>\n",
       "      <td>280.0</td>\n",
       "      <td>565.0</td>\n",
       "      <td>259.0</td>\n",
       "      <td>3.8462</td>\n",
       "      <td>342200.0</td>\n",
       "    </tr>\n",
       "  </tbody>\n",
       "</table>\n",
       "</div>"
      ],
      "text/plain": [
       "   longitude  latitude  housing_median_age  total_rooms  total_bedrooms  \\\n",
       "0    -122.23     37.88                41.0        880.0           129.0   \n",
       "1    -122.22     37.86                21.0       7099.0          1106.0   \n",
       "2    -122.24     37.85                52.0       1467.0           190.0   \n",
       "3    -122.25     37.85                52.0       1274.0           235.0   \n",
       "4    -122.25     37.85                52.0       1627.0           280.0   \n",
       "\n",
       "   population  households  median_income  median_house_value  \n",
       "0       322.0       126.0         8.3252            452600.0  \n",
       "1      2401.0      1138.0         8.3014            358500.0  \n",
       "2       496.0       177.0         7.2574            352100.0  \n",
       "3       558.0       219.0         5.6431            341300.0  \n",
       "4       565.0       259.0         3.8462            342200.0  "
      ]
     },
     "execution_count": 9,
     "metadata": {},
     "output_type": "execute_result"
    }
   ],
   "source": [
    "df.drop(['ocean_proximity'], inplace=True, axis=1)\n",
    "df.head()"
   ]
  },
  {
   "cell_type": "markdown",
   "id": "938aa3bd",
   "metadata": {},
   "source": [
    "# Question 1\n",
    "Find a feature with missing values. How many missing values does it have?\n",
    "\n",
    "- 207\n",
    "- 208\n",
    "- 307\n",
    "- 308"
   ]
  },
  {
   "cell_type": "code",
   "execution_count": 10,
   "id": "8d2b3fbc",
   "metadata": {},
   "outputs": [
    {
     "data": {
      "text/plain": [
       "longitude               0\n",
       "latitude                0\n",
       "housing_median_age      0\n",
       "total_rooms             0\n",
       "total_bedrooms        207\n",
       "population              0\n",
       "households              0\n",
       "median_income           0\n",
       "median_house_value      0\n",
       "dtype: int64"
      ]
     },
     "execution_count": 10,
     "metadata": {},
     "output_type": "execute_result"
    }
   ],
   "source": [
    "# Checking for features with missing value\n",
    "df.isnull().sum()"
   ]
  },
  {
   "cell_type": "markdown",
   "id": "6b372f08",
   "metadata": {},
   "source": [
    "total_bedrooms is the feature with missing values. It has 207 missing values"
   ]
  },
  {
   "cell_type": "markdown",
   "id": "9f69d9fa",
   "metadata": {},
   "source": [
    "# Question 2\n",
    "What's the median (50% percentile) for variable 'population'?\n",
    "\n",
    "- 1133\n",
    "- 1122\n",
    "- 1166\n",
    "- 1188"
   ]
  },
  {
   "cell_type": "code",
   "execution_count": 11,
   "id": "5429411e",
   "metadata": {},
   "outputs": [
    {
     "data": {
      "text/plain": [
       "1166.0"
      ]
     },
     "execution_count": 11,
     "metadata": {},
     "output_type": "execute_result"
    }
   ],
   "source": [
    "# Median of population features\n",
    "df['population'].median()"
   ]
  },
  {
   "cell_type": "markdown",
   "id": "c70bff74",
   "metadata": {},
   "source": [
    "# Split the data\n",
    "- Shuffle the initial dataset, use seed 42.\n",
    "- Split your data in train/val/test sets, with 60%/20%/20% distribution.\n",
    "- Make sure that the target value ('median_house_value') is not in your dataframe.\n",
    "- Apply the log transformation to the median_house_value variable using the np.log1p() function.\n"
   ]
  },
  {
   "cell_type": "code",
   "execution_count": 12,
   "id": "b066750f",
   "metadata": {},
   "outputs": [],
   "source": [
    "# Split our dataset into train, validation and test dataset\n",
    "n = len(df)\n",
    "n_val = int(n * 0.2)\n",
    "n_test = int(n * 0.2)\n",
    "n_train = n - n_val - n_test"
   ]
  },
  {
   "cell_type": "code",
   "execution_count": 13,
   "id": "3401f518",
   "metadata": {},
   "outputs": [
    {
     "name": "stdout",
     "output_type": "stream",
     "text": [
      "The size of validation data is:  4128\n",
      "The size of test data is:  4128\n",
      "The size of train data is:  12384\n"
     ]
    }
   ],
   "source": [
    "print(\"The size of validation data is: \", n_val)\n",
    "print(\"The size of test data is: \", n_test)\n",
    "print(\"The size of train data is: \", n_train)"
   ]
  },
  {
   "cell_type": "code",
   "execution_count": 14,
   "id": "82e3038f",
   "metadata": {},
   "outputs": [
    {
     "data": {
      "text/plain": [
       "(20640, 20640)"
      ]
     },
     "execution_count": 14,
     "metadata": {},
     "output_type": "execute_result"
    }
   ],
   "source": [
    "n, n_val + n_test + n_train"
   ]
  },
  {
   "cell_type": "code",
   "execution_count": 15,
   "id": "f9a0d252",
   "metadata": {},
   "outputs": [],
   "source": [
    "# We generate range of index number to n\n",
    "idx = np.arange(n)"
   ]
  },
  {
   "cell_type": "code",
   "execution_count": 16,
   "id": "5534b385",
   "metadata": {},
   "outputs": [],
   "source": [
    "# we shuffle the dataset and seed it to two\n",
    "np.random.seed(42)\n",
    "np.random.shuffle(idx)"
   ]
  },
  {
   "cell_type": "code",
   "execution_count": 17,
   "id": "92b666de",
   "metadata": {},
   "outputs": [],
   "source": [
    "#Subsetting the dataset after re-shuffling\n",
    "df_train = df.iloc[idx[:n_train]]\n",
    "df_val = df.iloc[idx[n_train:n_train+n_val]]\n",
    "df_test = df.iloc[idx[n_train+n_val:]]"
   ]
  },
  {
   "cell_type": "code",
   "execution_count": 18,
   "id": "94129db8",
   "metadata": {},
   "outputs": [
    {
     "data": {
      "text/plain": [
       "(12384, 4128, 4128)"
      ]
     },
     "execution_count": 18,
     "metadata": {},
     "output_type": "execute_result"
    }
   ],
   "source": [
    "len(df_train), len(df_val), len(df_test)"
   ]
  },
  {
   "cell_type": "code",
   "execution_count": 19,
   "id": "16045932",
   "metadata": {},
   "outputs": [],
   "source": [
    "df_train = df_train.reset_index(drop=True)\n",
    "df_val = df_val.reset_index(drop=True)\n",
    "df_test = df_test.reset_index(drop=True)"
   ]
  },
  {
   "cell_type": "code",
   "execution_count": 20,
   "id": "56b44708",
   "metadata": {},
   "outputs": [
    {
     "data": {
      "text/html": [
       "<div>\n",
       "<style scoped>\n",
       "    .dataframe tbody tr th:only-of-type {\n",
       "        vertical-align: middle;\n",
       "    }\n",
       "\n",
       "    .dataframe tbody tr th {\n",
       "        vertical-align: top;\n",
       "    }\n",
       "\n",
       "    .dataframe thead th {\n",
       "        text-align: right;\n",
       "    }\n",
       "</style>\n",
       "<table border=\"1\" class=\"dataframe\">\n",
       "  <thead>\n",
       "    <tr style=\"text-align: right;\">\n",
       "      <th></th>\n",
       "      <th>longitude</th>\n",
       "      <th>latitude</th>\n",
       "      <th>housing_median_age</th>\n",
       "      <th>total_rooms</th>\n",
       "      <th>total_bedrooms</th>\n",
       "      <th>population</th>\n",
       "      <th>households</th>\n",
       "      <th>median_income</th>\n",
       "      <th>median_house_value</th>\n",
       "    </tr>\n",
       "  </thead>\n",
       "  <tbody>\n",
       "    <tr>\n",
       "      <th>0</th>\n",
       "      <td>-119.01</td>\n",
       "      <td>36.06</td>\n",
       "      <td>25.0</td>\n",
       "      <td>1505.0</td>\n",
       "      <td>NaN</td>\n",
       "      <td>1392.0</td>\n",
       "      <td>359.0</td>\n",
       "      <td>1.6812</td>\n",
       "      <td>47700.0</td>\n",
       "    </tr>\n",
       "    <tr>\n",
       "      <th>1</th>\n",
       "      <td>-119.46</td>\n",
       "      <td>35.14</td>\n",
       "      <td>30.0</td>\n",
       "      <td>2943.0</td>\n",
       "      <td>NaN</td>\n",
       "      <td>1565.0</td>\n",
       "      <td>584.0</td>\n",
       "      <td>2.5313</td>\n",
       "      <td>45800.0</td>\n",
       "    </tr>\n",
       "    <tr>\n",
       "      <th>2</th>\n",
       "      <td>-122.44</td>\n",
       "      <td>37.80</td>\n",
       "      <td>52.0</td>\n",
       "      <td>3830.0</td>\n",
       "      <td>NaN</td>\n",
       "      <td>1310.0</td>\n",
       "      <td>963.0</td>\n",
       "      <td>3.4801</td>\n",
       "      <td>500001.0</td>\n",
       "    </tr>\n",
       "    <tr>\n",
       "      <th>3</th>\n",
       "      <td>-118.72</td>\n",
       "      <td>34.28</td>\n",
       "      <td>17.0</td>\n",
       "      <td>3051.0</td>\n",
       "      <td>NaN</td>\n",
       "      <td>1705.0</td>\n",
       "      <td>495.0</td>\n",
       "      <td>5.7376</td>\n",
       "      <td>218600.0</td>\n",
       "    </tr>\n",
       "    <tr>\n",
       "      <th>4</th>\n",
       "      <td>-121.93</td>\n",
       "      <td>36.62</td>\n",
       "      <td>34.0</td>\n",
       "      <td>2351.0</td>\n",
       "      <td>NaN</td>\n",
       "      <td>1063.0</td>\n",
       "      <td>428.0</td>\n",
       "      <td>3.7250</td>\n",
       "      <td>278000.0</td>\n",
       "    </tr>\n",
       "  </tbody>\n",
       "</table>\n",
       "</div>"
      ],
      "text/plain": [
       "   longitude  latitude  housing_median_age  total_rooms  total_bedrooms  \\\n",
       "0    -119.01     36.06                25.0       1505.0             NaN   \n",
       "1    -119.46     35.14                30.0       2943.0             NaN   \n",
       "2    -122.44     37.80                52.0       3830.0             NaN   \n",
       "3    -118.72     34.28                17.0       3051.0             NaN   \n",
       "4    -121.93     36.62                34.0       2351.0             NaN   \n",
       "\n",
       "   population  households  median_income  median_house_value  \n",
       "0      1392.0       359.0         1.6812             47700.0  \n",
       "1      1565.0       584.0         2.5313             45800.0  \n",
       "2      1310.0       963.0         3.4801            500001.0  \n",
       "3      1705.0       495.0         5.7376            218600.0  \n",
       "4      1063.0       428.0         3.7250            278000.0  "
      ]
     },
     "execution_count": 20,
     "metadata": {},
     "output_type": "execute_result"
    }
   ],
   "source": [
    "df_train.head()"
   ]
  },
  {
   "cell_type": "code",
   "execution_count": 21,
   "id": "a69a5d77",
   "metadata": {},
   "outputs": [],
   "source": [
    "# we make it our y vector\n",
    "y_train = np.log1p(df_train['median_house_value']).values\n",
    "y_val = np.log1p(df_val['median_house_value']).values\n",
    "y_test = np.log1p(df_test['median_house_value']).values"
   ]
  },
  {
   "cell_type": "code",
   "execution_count": 22,
   "id": "1fb637e1",
   "metadata": {},
   "outputs": [
    {
     "data": {
      "text/plain": [
       "array([10.77270764, 10.7320612 , 13.12236738, ..., 11.89683321,\n",
       "       11.93032573, 12.9487264 ])"
      ]
     },
     "execution_count": 22,
     "metadata": {},
     "output_type": "execute_result"
    }
   ],
   "source": [
    "y_train"
   ]
  },
  {
   "cell_type": "code",
   "execution_count": 23,
   "id": "c906f73b",
   "metadata": {},
   "outputs": [],
   "source": [
    "# We drop msrp from our dataset to make them our X features\n",
    "del df_train['median_house_value']\n",
    "del df_val['median_house_value']\n",
    "del df_test['median_house_value']"
   ]
  },
  {
   "cell_type": "markdown",
   "id": "051288f5",
   "metadata": {},
   "source": [
    "# Question 3\n",
    "- We need to deal with missing values for the column from Q1.\n",
    "- We have two options: fill it with 0 or with the mean of this variable.\n",
    "- Try both options. For each, train a linear regression model without regularization using the code from the lessons.\n",
    "- For computing the mean, use the training only!\n",
    "- Use the validation dataset to evaluate the models and compare the RMSE of each option.\n",
    "- Round the RMSE scores to 2 decimal digits using round(score, 2)\n",
    "- Which option gives better RMSE?\n",
    "- Options:\n",
    "\n",
    "- With 0\n",
    "- With mean\n",
    "- With median\n",
    "- Both are equally good\n"
   ]
  },
  {
   "cell_type": "markdown",
   "id": "7cb0666a",
   "metadata": {},
   "source": [
    "# Filling the missing value with zero (0)"
   ]
  },
  {
   "cell_type": "code",
   "execution_count": 24,
   "id": "231f285a",
   "metadata": {},
   "outputs": [],
   "source": [
    "df_zero = df_train.copy()"
   ]
  },
  {
   "cell_type": "code",
   "execution_count": 25,
   "id": "45e976ba",
   "metadata": {},
   "outputs": [
    {
     "data": {
      "text/plain": [
       "longitude               0\n",
       "latitude                0\n",
       "housing_median_age      0\n",
       "total_rooms             0\n",
       "total_bedrooms        207\n",
       "population              0\n",
       "households              0\n",
       "median_income           0\n",
       "dtype: int64"
      ]
     },
     "execution_count": 25,
     "metadata": {},
     "output_type": "execute_result"
    }
   ],
   "source": [
    "df_zero.isnull().sum()"
   ]
  },
  {
   "cell_type": "code",
   "execution_count": 26,
   "id": "688ec647",
   "metadata": {},
   "outputs": [],
   "source": [
    "# fill the missing values with zero for now (note that zero is not the best way to handle missing values)\n",
    "df_zero = df_zero.fillna(0)"
   ]
  },
  {
   "cell_type": "code",
   "execution_count": 27,
   "id": "03019d0a",
   "metadata": {},
   "outputs": [
    {
     "data": {
      "text/plain": [
       "longitude             0\n",
       "latitude              0\n",
       "housing_median_age    0\n",
       "total_rooms           0\n",
       "total_bedrooms        0\n",
       "population            0\n",
       "households            0\n",
       "median_income         0\n",
       "dtype: int64"
      ]
     },
     "execution_count": 27,
     "metadata": {},
     "output_type": "execute_result"
    }
   ],
   "source": [
    "df_zero.isnull().sum()"
   ]
  },
  {
   "cell_type": "code",
   "execution_count": 28,
   "id": "63a21480",
   "metadata": {},
   "outputs": [
    {
     "data": {
      "text/plain": [
       "array([[-1.1901e+02,  3.6060e+01,  2.5000e+01, ...,  1.3920e+03,\n",
       "         3.5900e+02,  1.6812e+00],\n",
       "       [-1.1946e+02,  3.5140e+01,  3.0000e+01, ...,  1.5650e+03,\n",
       "         5.8400e+02,  2.5313e+00],\n",
       "       [-1.2244e+02,  3.7800e+01,  5.2000e+01, ...,  1.3100e+03,\n",
       "         9.6300e+02,  3.4801e+00],\n",
       "       ...,\n",
       "       [-1.2091e+02,  3.8980e+01,  1.3000e+01, ...,  3.2640e+03,\n",
       "         1.1980e+03,  3.6530e+00],\n",
       "       [-1.1772e+02,  3.4090e+01,  3.6000e+01, ...,  7.8500e+02,\n",
       "         2.9900e+02,  3.2566e+00],\n",
       "       [-1.2247e+02,  3.7760e+01,  3.4000e+01, ...,  1.1520e+03,\n",
       "         4.4500e+02,  5.1893e+00]])"
      ]
     },
     "execution_count": 28,
     "metadata": {},
     "output_type": "execute_result"
    }
   ],
   "source": [
    "# Extract the value from the df_base and store as X_train\n",
    "X_train_zero = df_zero.values\n",
    "X_train_zero"
   ]
  },
  {
   "cell_type": "code",
   "execution_count": 29,
   "id": "89d2d867",
   "metadata": {},
   "outputs": [],
   "source": [
    "# Instantiate the model\n",
    "\n",
    "def train_linear_regression(X, y):\n",
    "    ones = np.ones(X.shape[0])\n",
    "    X = np.column_stack([ones, X])\n",
    "\n",
    "    XTX = X.T.dot(X)\n",
    "    XTX_inv = np.linalg.inv(XTX)\n",
    "    w_full = XTX_inv.dot(X.T).dot(y)\n",
    "    \n",
    "    return w_full[0], w_full[1:]"
   ]
  },
  {
   "cell_type": "code",
   "execution_count": 30,
   "id": "10a8f8e0",
   "metadata": {},
   "outputs": [
    {
     "data": {
      "text/plain": [
       "(-11.686975241970226,\n",
       " array([-2.76255120e-01, -2.82087184e-01,  2.91329621e-03, -8.64531514e-06,\n",
       "         1.50811922e-04, -2.08205659e-04,  5.69546573e-04,  1.71308139e-01]))"
      ]
     },
     "execution_count": 30,
     "metadata": {},
     "output_type": "execute_result"
    }
   ],
   "source": [
    "# Train the model\n",
    "train_linear_regression(X_train_zero, y_train)"
   ]
  },
  {
   "cell_type": "code",
   "execution_count": 31,
   "id": "45654f44",
   "metadata": {},
   "outputs": [],
   "source": [
    "w0, w = train_linear_regression(X_train_zero, y_train)"
   ]
  },
  {
   "cell_type": "code",
   "execution_count": 32,
   "id": "63ae251e",
   "metadata": {},
   "outputs": [],
   "source": [
    "y_pred = w0 + X_train_zero.dot(w)"
   ]
  },
  {
   "cell_type": "code",
   "execution_count": 33,
   "id": "8adc4ab6",
   "metadata": {},
   "outputs": [
    {
     "data": {
      "text/plain": [
       "array([11.28055213, 11.90427911, 12.46507934, ..., 11.53259294,\n",
       "       11.92377088, 12.54517195])"
      ]
     },
     "execution_count": 33,
     "metadata": {},
     "output_type": "execute_result"
    }
   ],
   "source": [
    "y_pred"
   ]
  },
  {
   "cell_type": "code",
   "execution_count": 34,
   "id": "455accf5",
   "metadata": {},
   "outputs": [
    {
     "data": {
      "text/plain": [
       "<AxesSubplot:ylabel='Count'>"
      ]
     },
     "execution_count": 34,
     "metadata": {},
     "output_type": "execute_result"
    },
    {
     "data": {
      "image/png": "[encoded data removed]",
      "text/plain": [
       "<Figure size 640x480 with 1 Axes>"
      ]
     },
     "metadata": {},
     "output_type": "display_data"
    }
   ],
   "source": [
    "sns.histplot(y_pred, color='red', alpha=0.5, bins=50)\n",
    "sns.histplot(y_train, color='blue', alpha=0.5, bins=50)"
   ]
  },
  {
   "cell_type": "markdown",
   "id": "65a2a0bd",
   "metadata": {},
   "source": [
    "# RMSE"
   ]
  },
  {
   "cell_type": "code",
   "execution_count": 35,
   "id": "ab9a89be",
   "metadata": {},
   "outputs": [],
   "source": [
    "# RMSE function declaration\n",
    "\n",
    "def rmse(y, y_pred):\n",
    "    se = (y - y_pred) ** 2\n",
    "    mse = se.mean()\n",
    "    return np.sqrt(mse)"
   ]
  },
  {
   "cell_type": "code",
   "execution_count": 36,
   "id": "5a4a073e",
   "metadata": {},
   "outputs": [
    {
     "data": {
      "text/plain": [
       "0.34"
      ]
     },
     "execution_count": 36,
     "metadata": {},
     "output_type": "execute_result"
    }
   ],
   "source": [
    "# RMSE of zero (0) fill\n",
    "rmse(y_train, y_pred).round(2)"
   ]
  },
  {
   "cell_type": "markdown",
   "id": "1c4c5b1f",
   "metadata": {},
   "source": [
    "# Filling the missing value with mean "
   ]
  },
  {
   "cell_type": "code",
   "execution_count": 37,
   "id": "f8b48286",
   "metadata": {},
   "outputs": [],
   "source": [
    "df_train_mean = df_train.copy()"
   ]
  },
  {
   "cell_type": "code",
   "execution_count": 38,
   "id": "b93fa011",
   "metadata": {},
   "outputs": [],
   "source": [
    "fill_mean = df_train_mean['total_bedrooms'].mean()"
   ]
  },
  {
   "cell_type": "code",
   "execution_count": 39,
   "id": "0adc6576",
   "metadata": {},
   "outputs": [
    {
     "data": {
      "text/plain": [
       "longitude               0\n",
       "latitude                0\n",
       "housing_median_age      0\n",
       "total_rooms             0\n",
       "total_bedrooms        207\n",
       "population              0\n",
       "households              0\n",
       "median_income           0\n",
       "dtype: int64"
      ]
     },
     "execution_count": 39,
     "metadata": {},
     "output_type": "execute_result"
    }
   ],
   "source": [
    "df_train_mean.isnull().sum()"
   ]
  },
  {
   "cell_type": "code",
   "execution_count": 40,
   "id": "ff7c051a",
   "metadata": {},
   "outputs": [],
   "source": [
    "df_train_mean = df_train_mean.fillna(fill_mean)"
   ]
  },
  {
   "cell_type": "code",
   "execution_count": 41,
   "id": "4882d78f",
   "metadata": {},
   "outputs": [
    {
     "data": {
      "text/plain": [
       "longitude             0\n",
       "latitude              0\n",
       "housing_median_age    0\n",
       "total_rooms           0\n",
       "total_bedrooms        0\n",
       "population            0\n",
       "households            0\n",
       "median_income         0\n",
       "dtype: int64"
      ]
     },
     "execution_count": 41,
     "metadata": {},
     "output_type": "execute_result"
    }
   ],
   "source": [
    "df_train_mean.isnull().sum()"
   ]
  },
  {
   "cell_type": "code",
   "execution_count": 42,
   "id": "6abec12f",
   "metadata": {},
   "outputs": [
    {
     "data": {
      "text/plain": [
       "array([[-1.1901e+02,  3.6060e+01,  2.5000e+01, ...,  1.3920e+03,\n",
       "         3.5900e+02,  1.6812e+00],\n",
       "       [-1.1946e+02,  3.5140e+01,  3.0000e+01, ...,  1.5650e+03,\n",
       "         5.8400e+02,  2.5313e+00],\n",
       "       [-1.2244e+02,  3.7800e+01,  5.2000e+01, ...,  1.3100e+03,\n",
       "         9.6300e+02,  3.4801e+00],\n",
       "       ...,\n",
       "       [-1.2091e+02,  3.8980e+01,  1.3000e+01, ...,  3.2640e+03,\n",
       "         1.1980e+03,  3.6530e+00],\n",
       "       [-1.1772e+02,  3.4090e+01,  3.6000e+01, ...,  7.8500e+02,\n",
       "         2.9900e+02,  3.2566e+00],\n",
       "       [-1.2247e+02,  3.7760e+01,  3.4000e+01, ...,  1.1520e+03,\n",
       "         4.4500e+02,  5.1893e+00]])"
      ]
     },
     "execution_count": 42,
     "metadata": {},
     "output_type": "execute_result"
    }
   ],
   "source": [
    "# Extract the value from the df_base and store as X_train\n",
    "X_train_mean = df_train_mean.values\n",
    "X_train_mean"
   ]
  },
  {
   "cell_type": "code",
   "execution_count": 43,
   "id": "565e4664",
   "metadata": {},
   "outputs": [
    {
     "data": {
      "text/plain": [
       "(-11.759590872471644,\n",
       " array([-2.76809637e-01, -2.82182103e-01,  2.93033801e-03, -1.48543785e-05,\n",
       "         2.48054046e-04, -2.03763456e-04,  4.87004092e-04,  1.73086593e-01]))"
      ]
     },
     "execution_count": 43,
     "metadata": {},
     "output_type": "execute_result"
    }
   ],
   "source": [
    "# Train the model\n",
    "train_linear_regression(X_train_mean, y_train)"
   ]
  },
  {
   "cell_type": "code",
   "execution_count": 44,
   "id": "6a6a1c69",
   "metadata": {},
   "outputs": [],
   "source": [
    "w0, w = train_linear_regression(X_train_mean, y_train)"
   ]
  },
  {
   "cell_type": "code",
   "execution_count": 45,
   "id": "d6dfed8b",
   "metadata": {},
   "outputs": [],
   "source": [
    "y_pred = w0 + X_train_mean.dot(w)"
   ]
  },
  {
   "cell_type": "code",
   "execution_count": 46,
   "id": "47fdb4ab",
   "metadata": {},
   "outputs": [
    {
     "data": {
      "text/plain": [
       "array([11.37346084, 11.97238956, 12.49872828, ..., 11.53551178,\n",
       "       11.92115877, 12.54500627])"
      ]
     },
     "execution_count": 46,
     "metadata": {},
     "output_type": "execute_result"
    }
   ],
   "source": [
    "y_pred"
   ]
  },
  {
   "cell_type": "code",
   "execution_count": 47,
   "id": "5990aa9b",
   "metadata": {},
   "outputs": [
    {
     "data": {
      "text/plain": [
       "<AxesSubplot:ylabel='Count'>"
      ]
     },
     "execution_count": 47,
     "metadata": {},
     "output_type": "execute_result"
    },
    {
     "data": {
      "image/png": "[encoded data removed]",
      "text/plain": [
       "<Figure size 640x480 with 1 Axes>"
      ]
     },
     "metadata": {},
     "output_type": "display_data"
    }
   ],
   "source": [
    "sns.histplot(y_pred, color='red', alpha=0.5, bins=50)\n",
    "sns.histplot(y_train, color='blue', alpha=0.5, bins=50)"
   ]
  },
  {
   "cell_type": "code",
   "execution_count": 48,
   "id": "2e345c80",
   "metadata": {},
   "outputs": [
    {
     "data": {
      "text/plain": [
       "0.34"
      ]
     },
     "execution_count": 48,
     "metadata": {},
     "output_type": "execute_result"
    }
   ],
   "source": [
    "# RMSE of mean fill\n",
    "rmse(y_train, y_pred).round(2)"
   ]
  },
  {
   "cell_type": "markdown",
   "id": "90cf4511",
   "metadata": {},
   "source": [
    "# Validating the model"
   ]
  },
  {
   "cell_type": "code",
   "execution_count": 49,
   "id": "ae71cc0a",
   "metadata": {},
   "outputs": [],
   "source": [
    "# Fill with zero\n",
    "def prepare_X_zero(df):\n",
    "    df_zero = df.copy()\n",
    "    df_train_zero = df_zero.fillna(0)\n",
    "    X = df_train_zero.values\n",
    "    return X"
   ]
  },
  {
   "cell_type": "code",
   "execution_count": 50,
   "id": "ca787857",
   "metadata": {},
   "outputs": [
    {
     "data": {
      "text/plain": [
       "0.33"
      ]
     },
     "execution_count": 50,
     "metadata": {},
     "output_type": "execute_result"
    }
   ],
   "source": [
    "X_train_zero = prepare_X_zero(df_train)\n",
    "w0, w = train_linear_regression(X_train_zero, y_train)\n",
    "\n",
    "X_val_zero = prepare_X_zero(df_val)\n",
    "y_pred = w0 + X_val_zero.dot(w)\n",
    "round(rmse(y_val, y_pred), 2)"
   ]
  },
  {
   "cell_type": "code",
   "execution_count": 51,
   "id": "86d1d2de",
   "metadata": {},
   "outputs": [],
   "source": [
    "# Fill with mean\n",
    "def prepare_X_mean(df):\n",
    "    df_mean = df.copy()\n",
    "    df_train_mean = df_mean.fillna(fill_mean)\n",
    "    X = df_train_mean.values\n",
    "    return X"
   ]
  },
  {
   "cell_type": "code",
   "execution_count": 52,
   "id": "30f95cc4",
   "metadata": {},
   "outputs": [
    {
     "data": {
      "text/plain": [
       "0.33"
      ]
     },
     "execution_count": 52,
     "metadata": {},
     "output_type": "execute_result"
    }
   ],
   "source": [
    "X_train_mean = prepare_X_mean(df_train)\n",
    "w0, w = train_linear_regression(X_train_mean, y_train)\n",
    "\n",
    "X_val_mean = prepare_X_mean(df_val)\n",
    "y_pred = w0 + X_val_mean.dot(w)\n",
    "round(rmse(y_val, y_pred), 2)"
   ]
  },
  {
   "cell_type": "markdown",
   "id": "445e32b0",
   "metadata": {},
   "source": [
    "# Question 4\n",
    "- Now let's train a regularized linear regression.\n",
    "- For this question, fill the NAs with 0.\n",
    "- Try different values of r from this list: [0, 0.000001, 0.0001, 0.001, 0.01, 0.1, 1, 5, 10].\n",
    "- Use RMSE to evaluate the model on the validation dataset.\n",
    "- Round the RMSE scores to 2 decimal digits.\n",
    "- Which r gives the best RMSE?\n",
    "- If there are multiple options, select the smallest r.\n",
    "\n",
    "Options:\n",
    "\n",
    "- 0\n",
    "- 0.000001\n",
    "- 0.001\n",
    "- 0.01\n"
   ]
  },
  {
   "cell_type": "code",
   "execution_count": 53,
   "id": "787bf028",
   "metadata": {},
   "outputs": [],
   "source": [
    "def train_linear_regression_reg(X, y, r=0.001):\n",
    "    ones = np.ones(X.shape[0])\n",
    "    X = np.column_stack([ones, X])\n",
    "\n",
    "    XTX = X.T.dot(X)\n",
    "    XTX = XTX + r * np.eye(XTX.shape[0])\n",
    "\n",
    "    XTX_inv = np.linalg.inv(XTX)\n",
    "    w_full = XTX_inv.dot(X.T).dot(y)\n",
    "    \n",
    "    return w_full[0], w_full[1:]"
   ]
  },
  {
   "cell_type": "code",
   "execution_count": 54,
   "id": "b12d2b83",
   "metadata": {},
   "outputs": [],
   "source": [
    "reg = [0, 0.000001, 0.0001, 0.001, 0.01, 0.1, 1, 5, 10]"
   ]
  },
  {
   "cell_type": "code",
   "execution_count": 55,
   "id": "89c0777d",
   "metadata": {},
   "outputs": [
    {
     "name": "stdout",
     "output_type": "stream",
     "text": [
      "0 -11.686975241970226 0.33\n",
      "1e-06 -11.686959175950335 0.33\n",
      "0.0001 -11.68536886556655 0.33\n",
      "0.001 -11.670931318286257 0.33\n",
      "0.01 -11.528493586076086 0.33\n",
      "0.1 -10.274500282121712 0.33\n",
      "1 -4.920480897796898 0.33\n",
      "5 -1.482095745685135 0.34\n",
      "10 -0.7899311832050503 0.34\n"
     ]
    }
   ],
   "source": [
    "for r in reg:\n",
    "    X_train = prepare_X_zero(df_train)\n",
    "    w0, w = train_linear_regression_reg(X_train, y_train, r=r)\n",
    "\n",
    "    X_val = prepare_X_zero(df_val)\n",
    "    y_pred = w0 + X_val.dot(w)\n",
    "    score = round(rmse(y_val, y_pred), 2)\n",
    "    \n",
    "    print(r, w0, score)"
   ]
  },
  {
   "cell_type": "markdown",
   "id": "5ee8622d",
   "metadata": {},
   "source": [
    "# Question 5\n",
    "- We used seed 42 for splitting the data. Let's find out how selecting the seed influences our score.\n",
    "- Try different seed values: [0, 1, 2, 3, 4, 5, 6, 7, 8, 9].\n",
    "- For each seed, do the train/validation/test split with 60%/20%/20% distribution.\n",
    "- Fill the missing values with 0 and train a model without regularization.\n",
    "- For each seed, evaluate the model on the validation dataset and collect the RMSE scores.\n",
    "- What's the standard deviation of all the scores? To compute the standard deviation, use np.std.\n",
    "- Round the result to 3 decimal digits (round(std, 3))\n",
    "\n",
    "Options:\n",
    "\n",
    "- 0.5\n",
    "- 0.05\n",
    "- 0.005\n",
    "- 0.0005"
   ]
  },
  {
   "cell_type": "code",
   "execution_count": 56,
   "id": "85ef480b",
   "metadata": {},
   "outputs": [],
   "source": [
    "seeds = [0, 1, 2, 3, 4, 5, 6, 7, 8, 9]"
   ]
  },
  {
   "cell_type": "code",
   "execution_count": 57,
   "id": "1cf27c20",
   "metadata": {},
   "outputs": [],
   "source": [
    "def linear_regression_seed(df, s):\n",
    "    \n",
    "    # Split our dataset into train, validation and test dataset\n",
    "    n = len(df)\n",
    "    n_val = int(n * 0.2)\n",
    "    n_test = int(n * 0.2)\n",
    "    n_train = n - n_val - n_test\n",
    "    \n",
    "    # We generate range of index number to n\n",
    "    idx = np.arange(n)\n",
    "    \n",
    "    # we shuffle the dataset and seed it to two\n",
    "    np.random.seed(s)\n",
    "    np.random.shuffle(idx)\n",
    "    \n",
    "    #Subsetting the dataset after re-shuffling\n",
    "    df_train = df.iloc[idx[:n_train]]\n",
    "    df_val = df.iloc[idx[n_train:n_train+n_val]]\n",
    "    df_test = df.iloc[idx[n_train+n_val:]]\n",
    "\n",
    "    # Reset index\n",
    "    df_train = df_train.reset_index(drop=True)\n",
    "    df_val = df_val.reset_index(drop=True)\n",
    "    df_test = df_test.reset_index(drop=True)\n",
    "\n",
    "    # we make it our y vector\n",
    "    y_train = np.log1p(df_train['median_house_value']).values\n",
    "    y_val = np.log1p(df_val['median_house_value']).values\n",
    "    y_test = np.log1p(df_test['median_house_value']).values\n",
    "\n",
    "    # We drop median_house_value from our dataset to make them our X features\n",
    "    del df_train['median_house_value']\n",
    "    del df_val['median_house_value']\n",
    "    del df_test['median_house_value']\n",
    "    \n",
    "    # Train linear regression and validate\n",
    "    X_train = prepare_X_zero(df_train)\n",
    "    w0, w = train_linear_regression(X_train, y_train)\n",
    "\n",
    "    X_val = prepare_X_zero(df_val)\n",
    "    y_pred = w0 + X_val.dot(w)\n",
    "    score = (rmse(y_val, y_pred)).round(2)\n",
    "    \n",
    "    return score\n",
    "    \n",
    "    \n",
    "    "
   ]
  },
  {
   "cell_type": "code",
   "execution_count": 58,
   "id": "37b08ab1",
   "metadata": {},
   "outputs": [
    {
     "name": "stdout",
     "output_type": "stream",
     "text": [
      "0 0.34\n",
      "1 0.34\n",
      "2 0.33\n",
      "3 0.34\n",
      "4 0.34\n",
      "5 0.34\n",
      "6 0.35\n",
      "7 0.34\n",
      "8 0.35\n",
      "9 0.34\n"
     ]
    }
   ],
   "source": [
    "rmse_result = []\n",
    "for v in seeds:\n",
    "    result = linear_regression_seed(df, s=v)\n",
    "    rmse_result.append(result)\n",
    "    print (v, result)"
   ]
  },
  {
   "cell_type": "code",
   "execution_count": 59,
   "id": "c95d3420",
   "metadata": {},
   "outputs": [
    {
     "data": {
      "text/plain": [
       "array([0.34, 0.34, 0.33, 0.34, 0.34, 0.34, 0.35, 0.34, 0.35, 0.34])"
      ]
     },
     "execution_count": 59,
     "metadata": {},
     "output_type": "execute_result"
    }
   ],
   "source": [
    "rmse_result = np.array(rmse_result)\n",
    "rmse_result "
   ]
  },
  {
   "cell_type": "code",
   "execution_count": 60,
   "id": "2f228ec0",
   "metadata": {},
   "outputs": [
    {
     "data": {
      "text/plain": [
       "0.005"
      ]
     },
     "execution_count": 60,
     "metadata": {},
     "output_type": "execute_result"
    }
   ],
   "source": [
    "std = np.std(rmse_result)\n",
    "round(std, 3)"
   ]
  },
  {
   "cell_type": "markdown",
   "id": "a2593812",
   "metadata": {},
   "source": [
    "# Question 6\n",
    "- Split the dataset like previously, use seed 9.\n",
    "- Combine train and validation datasets.\n",
    "- Fill the missing values with 0 and train a model with r=0.001.\n",
    "- What's the RMSE on the test dataset?\n",
    "\n",
    "Options:\n",
    "- 0.35\n",
    "- 0.035\n",
    "- 0.45\n",
    "- 0.045"
   ]
  },
  {
   "cell_type": "code",
   "execution_count": 61,
   "id": "a20a4402",
   "metadata": {},
   "outputs": [],
   "source": [
    "def linear_regression_full(df, s, r):\n",
    "    \n",
    "    # Split our dataset into train, validation and test dataset\n",
    "    n = len(df)\n",
    "    n_val = int(n * 0.2)\n",
    "    n_test = int(n * 0.2)\n",
    "    n_train = n - n_val - n_test\n",
    "    \n",
    "    # We generate range of index number to n\n",
    "    idx = np.arange(n)\n",
    "    \n",
    "    # we shuffle the dataset and seed it to two\n",
    "    np.random.seed(s)\n",
    "    np.random.shuffle(idx)\n",
    "    \n",
    "    #Subsetting the dataset after re-shuffling\n",
    "    df_train = df.iloc[idx[:n_train]]\n",
    "    df_val = df.iloc[idx[n_train:n_train+n_val]]\n",
    "    df_test = df.iloc[idx[n_train+n_val:]]\n",
    "\n",
    "    # Reset index\n",
    "    df_train = df_train.reset_index(drop=True)\n",
    "    df_val = df_val.reset_index(drop=True)\n",
    "    df_test = df_test.reset_index(drop=True)\n",
    "\n",
    "    # we make it our y vector\n",
    "    y_train = np.log1p(df_train['median_house_value']).values\n",
    "    y_val = np.log1p(df_val['median_house_value']).values\n",
    "    y_test = np.log1p(df_test['median_house_value']).values\n",
    "\n",
    "    # We drop median_house_value from our dataset to make them our X features\n",
    "    del df_train['median_house_value']\n",
    "    del df_val['median_house_value']\n",
    "    del df_test['median_house_value']\n",
    "    \n",
    "    # Combine the train and validation dataset\n",
    "    df_full_train = pd.concat([df_train, df_val])\n",
    "    \n",
    "    # reset the index\n",
    "    df_full_train = df_full_train.reset_index(drop=True)\n",
    "    \n",
    "    # we need to get our full target i.e. y by combining y_train and y_val\n",
    "    y_full_train = np.concatenate([y_train, y_val])\n",
    "    \n",
    "    # Train linear regression and validate\n",
    "    X_full_train = prepare_X_zero(df_full_train)\n",
    "    w0, w = train_linear_regression_reg(X_full_train, y_full_train, r)\n",
    "\n",
    "    X_test = prepare_X_zero(df_test)\n",
    "    y_pred = w0 + X_test.dot(w)\n",
    "    score = rmse(y_test, y_pred)\n",
    "    \n",
    "    return score\n",
    "    "
   ]
  },
  {
   "cell_type": "code",
   "execution_count": 62,
   "id": "c545657f",
   "metadata": {},
   "outputs": [
    {
     "data": {
      "text/plain": [
       "0.35"
      ]
     },
     "execution_count": 62,
     "metadata": {},
     "output_type": "execute_result"
    }
   ],
   "source": [
    "rmse_score = linear_regression_full(df, s=9, r=0.001)\n",
    "round(rmse_score, 2)"
   ]
  }
 ],
 "metadata": {
  "kernelspec": {
   "display_name": "Python 3 (ipykernel)",
   "language": "python",
   "name": "python3"
  },
  "language_info": {
   "codemirror_mode": {
    "name": "ipython",
    "version": 3
   },
   "file_extension": ".py",
   "mimetype": "text/x-python",
   "name": "python",
   "nbconvert_exporter": "python",
   "pygments_lexer": "ipython3",
   "version": "3.8.13"
  }
 },
 "nbformat": 4,
 "nbformat_minor": 5
}
